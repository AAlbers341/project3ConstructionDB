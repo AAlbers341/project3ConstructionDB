{
 "cells": [
  {
   "cell_type": "code",
   "execution_count": 5,
   "id": "232f34b6",
   "metadata": {},
   "outputs": [],
   "source": [
    "import sqlalchemy\n",
    "from sqlalchemy.ext.automap import automap_base\n",
    "from sqlalchemy.orm import Session\n",
    "from sqlalchemy import create_engine, func\n",
    "import psycopg2"
   ]
  },
  {
   "cell_type": "code",
   "execution_count": 7,
   "id": "0292e975",
   "metadata": {},
   "outputs": [
    {
     "data": {
      "text/plain": [
       "['EstimateItems',\n",
       " 'LaborGroups',\n",
       " 'Shapes',\n",
       " 'Estimates',\n",
       " 'Sizes',\n",
       " 'LaborRates',\n",
       " 'Grades']"
      ]
     },
     "execution_count": 7,
     "metadata": {},
     "output_type": "execute_result"
    }
   ],
   "source": [
    "# Create an engine\n",
    "user = \"postgres\"\n",
    "password = \"postgres\"\n",
    "host = \"localhost\"\n",
    "port = \"5432\"\n",
    "database = \"Construction_DB\"\n",
    "\n",
    "engine = create_engine(f\"postgresql://{user}:{password}@{host}:{port}/{database}\")\n",
    "\n",
    "base = automap_base()\n",
    "\n",
    "base.prepare(autoload_with=engine)\n",
    "\n",
    "base.classes.keys()\n",
    "\n",
    "\n"
   ]
  },
  {
   "cell_type": "code",
   "execution_count": 14,
   "id": "0b2fbebd",
   "metadata": {},
   "outputs": [
    {
     "name": "stdout",
     "output_type": "stream",
     "text": [
      "Number of records in Sizes table: 4196\n"
     ]
    }
   ],
   "source": [
    "session = Session(engine)\n",
    "\n",
    "Sizes = base.classes.Sizes\n",
    "\n",
    "count = session.query(func.count(Sizes.SizeID)).scalar()\n",
    "\n",
    "print(\"Number of records in Sizes table:\", count)\n",
    "\n",
    "session.close()"
   ]
  }
 ],
 "metadata": {
  "kernelspec": {
   "display_name": "Python 3 (ipykernel)",
   "language": "python",
   "name": "python3"
  },
  "language_info": {
   "codemirror_mode": {
    "name": "ipython",
    "version": 3
   },
   "file_extension": ".py",
   "mimetype": "text/x-python",
   "name": "python",
   "nbconvert_exporter": "python",
   "pygments_lexer": "ipython3",
   "version": "3.10.13"
  }
 },
 "nbformat": 4,
 "nbformat_minor": 5
}
