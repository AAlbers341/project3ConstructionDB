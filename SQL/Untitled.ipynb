{
 "cells": [
  {
   "cell_type": "code",
   "execution_count": 8,
   "id": "232f34b6",
   "metadata": {},
   "outputs": [],
   "source": [
    "import sqlalchemy\n",
    "from sqlalchemy.ext.automap import automap_base\n",
    "from sqlalchemy.orm import Session\n",
    "from sqlalchemy import create_engine, func\n",
    "import psycopg2"
   ]
  },
  {
   "cell_type": "code",
   "execution_count": 9,
   "id": "0292e975",
   "metadata": {},
   "outputs": [
    {
     "name": "stdout",
     "output_type": "stream",
     "text": [
      "['06_Estimates', '04_LaborRates', '02_Sizes', '05_LaborGroups', '03_Grades', '07_EstimateItems', '01_Shapes']\n"
     ]
    }
   ],
   "source": [
    "# Create an engine\n",
    "user = \"postgres\"\n",
    "password = \"postgres\"\n",
    "host = \"localhost\"\n",
    "port = \"5432\"\n",
    "database = \"prj3_construction_db\"\n",
    "schema= \"OrderedTables\"\n",
    "\n",
    "engine = create_engine(f\"postgresql://{user}:{password}@{host}:{port}/{database}\")\n",
    "\n",
    "base = automap_base()\n",
    "\n",
    "base.prepare(autoload_with=engine, schema=schema)\n",
    "\n",
    "print(base.classes.keys())\n",
    "\n",
    "\n",
    "session = Session(engine)\n",
    "session.close()\n",
    "\n"
   ]
  },
  {
   "cell_type": "code",
   "execution_count": 21,
   "id": "0b2fbebd",
   "metadata": {},
   "outputs": [],
   "source": [
    "# session = Session(engine)\n",
    "\n",
    "# Sizes = base.classes.Sizes\n",
    "\n",
    "# count = session.query(func.count(Sizes.SizeID)).scalar()\n",
    "\n",
    "# print(\"Number of records in Sizes table:\", count)\n",
    "\n",
    "# session.close()"
   ]
  }
 ],
 "metadata": {
  "kernelspec": {
   "display_name": "Python 3 (ipykernel)",
   "language": "python",
   "name": "python3"
  },
  "language_info": {
   "codemirror_mode": {
    "name": "ipython",
    "version": 3
   },
   "file_extension": ".py",
   "mimetype": "text/x-python",
   "name": "python",
   "nbconvert_exporter": "python",
   "pygments_lexer": "ipython3",
   "version": "3.10.13"
  }
 },
 "nbformat": 4,
 "nbformat_minor": 5
}
