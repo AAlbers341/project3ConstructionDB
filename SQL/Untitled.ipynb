{
 "cells": [
  {
   "cell_type": "code",
   "execution_count": 1,
   "id": "232f34b6",
   "metadata": {},
   "outputs": [],
   "source": [
    "import sqlalchemy\n",
    "from sqlalchemy.ext.automap import automap_base\n",
    "from sqlalchemy.orm import Session\n",
    "from sqlalchemy import create_engine, func, inspect\n",
    "import psycopg2\n"
   ]
  },
  {
   "cell_type": "code",
   "execution_count": 25,
   "id": "0292e975",
   "metadata": {},
   "outputs": [
    {
     "name": "stdout",
     "output_type": "stream",
     "text": [
      "[{'Estimate ID': Decimal('6831872.00')}, {'Estimate ID': Decimal('6831872.00')}, {'Estimate ID': Decimal('6831872.00')}, {'Estimate ID': Decimal('6831872.00')}, {'Estimate ID': Decimal('6831872.00')}, {'Estimate ID': Decimal('6831872.00')}, {'Estimate ID': Decimal('6831872.00')}, {'Estimate ID': Decimal('6831872.00')}, {'Estimate ID': Decimal('6831872.00')}, {'Estimate ID': Decimal('6831964.00')}, {'Estimate ID': Decimal('6831964.00')}, {'Estimate ID': Decimal('6831964.00')}, {'Estimate ID': Decimal('6831964.00')}, {'Estimate ID': Decimal('6831964.00')}, {'Estimate ID': Decimal('6831964.00')}, {'Estimate ID': Decimal('6831964.00')}, {'Estimate ID': Decimal('6831964.00')}, {'Estimate ID': Decimal('6831964.00')}, {'Estimate ID': Decimal('6832047.00')}, {'Estimate ID': Decimal('6832047.00')}, {'Estimate ID': Decimal('6832047.00')}, {'Estimate ID': Decimal('6832047.00')}, {'Estimate ID': Decimal('6832047.00')}, {'Estimate ID': Decimal('6832047.00')}, {'Estimate ID': Decimal('6832049.00')}, {'Estimate ID': Decimal('6832049.00')}, {'Estimate ID': Decimal('6832049.00')}, {'Estimate ID': Decimal('6832049.00')}, {'Estimate ID': Decimal('6832049.00')}, {'Estimate ID': Decimal('6832049.00')}, {'Estimate ID': Decimal('6899482.00')}, {'Estimate ID': Decimal('6899482.00')}, {'Estimate ID': Decimal('6899482.00')}, {'Estimate ID': Decimal('6899482.00')}, {'Estimate ID': Decimal('6899482.00')}, {'Estimate ID': Decimal('6899482.00')}, {'Estimate ID': Decimal('6899483.00')}, {'Estimate ID': Decimal('6899483.00')}, {'Estimate ID': Decimal('6899484.00')}, {'Estimate ID': Decimal('6899484.00')}, {'Estimate ID': Decimal('6899485.00')}, {'Estimate ID': Decimal('6899485.00')}, {'Estimate ID': Decimal('6899486.00')}, {'Estimate ID': Decimal('6899486.00')}, {'Estimate ID': Decimal('6899487.00')}, {'Estimate ID': Decimal('6899487.00')}, {'Estimate ID': Decimal('6899488.00')}, {'Estimate ID': Decimal('6899488.00')}, {'Estimate ID': Decimal('6899489.00')}, {'Estimate ID': Decimal('6899489.00')}, {'Estimate ID': Decimal('6899489.00')}, {'Estimate ID': Decimal('6899489.00')}, {'Estimate ID': Decimal('6899489.00')}, {'Estimate ID': Decimal('6899489.00')}, {'Estimate ID': Decimal('6899489.00')}, {'Estimate ID': Decimal('6906767.00')}, {'Estimate ID': Decimal('6906767.00')}, {'Estimate ID': Decimal('6906767.00')}, {'Estimate ID': Decimal('6906767.00')}, {'Estimate ID': Decimal('6906767.00')}, {'Estimate ID': Decimal('6906767.00')}, {'Estimate ID': Decimal('6906767.00')}]\n"
     ]
    }
   ],
   "source": [
    "# Create an engine\n",
    "user = \"postgres\"\n",
    "password = \"postgres\"\n",
    "host = \"localhost\"\n",
    "port = \"5432\"\n",
    "database = \"prj3_construction_db\"\n",
    "schema= \"OrderedTables\"\n",
    "\n",
    "engine = create_engine(f\"postgresql://{user}:{password}@{host}:{port}/{database}\")\n",
    "\n",
    "base = automap_base()\n",
    "\n",
    "base.prepare(autoload_with=engine, schema=schema)\n",
    "\n",
    "estimateitemlabor = base.classes['08_EstimateItemLabor']\n",
    "\n",
    "session = Session(engine)\n",
    "\n",
    "data = [] \n",
    "for row in session.query(estimateitemlabor.EstimateItemID).all():\n",
    "    data.append({\"Estimate ID\": row[0]})\n",
    "print(data)\n",
    "    \n",
    "session.close()\n",
    "\n",
    "    \n",
    "\n",
    "\n",
    "\n",
    "\n"
   ]
  },
  {
   "cell_type": "code",
   "execution_count": null,
   "id": "0b2fbebd",
   "metadata": {},
   "outputs": [],
   "source": [
    "# session = Session(engine)\n",
    "\n",
    "# Sizes = base.classes.Sizes\n",
    "\n",
    "# count = session.query(func.count(Sizes.SizeID)).scalar()\n",
    "\n",
    "# print(\"Number of records in Sizes table:\", count)\n",
    "\n",
    "# session.close()\n",
    "\n",
    "\n",
    "SELECT * FROM \"OrderedTables\".\"08_EstimateItemLabor\"\n",
    "\n",
    "SELECT SUM(\"OrderedTables\".\"08_EstimateItemLabor\".\"ManHours\") AS total_manhours\n",
    "FROM \"OrderedTables\".\"08_EstimateItemLabor\"\n",
    "WHERE \"LaborGroupID\" = 9;"
   ]
  }
 ],
 "metadata": {
  "kernelspec": {
   "display_name": "Python 3 (ipykernel)",
   "language": "python",
   "name": "python3"
  },
  "language_info": {
   "codemirror_mode": {
    "name": "ipython",
    "version": 3
   },
   "file_extension": ".py",
   "mimetype": "text/x-python",
   "name": "python",
   "nbconvert_exporter": "python",
   "pygments_lexer": "ipython3",
   "version": "3.10.13"
  }
 },
 "nbformat": 4,
 "nbformat_minor": 5
}
